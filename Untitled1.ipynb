{
 "cells": [
  {
   "cell_type": "code",
   "execution_count": 1,
   "metadata": {
    "collapsed": false
   },
   "outputs": [
    {
     "name": "stdout",
     "output_type": "stream",
     "text": [
      "Populating the interactive namespace from numpy and matplotlib\n"
     ]
    }
   ],
   "source": [
    "import requests\n",
    "import pandas as pd\n",
    "%pylab inline"
   ]
  },
  {
   "cell_type": "code",
   "execution_count": null,
   "metadata": {
    "collapsed": false
   },
   "outputs": [],
   "source": [
    "url_base = 'http://boston.craigslist.org/search/abo'\n",
    "params = dict(bedrooms=2, max_price=1700)\n",
    "rsp = requests.get(url_base, params=params)"
   ]
  },
  {
   "cell_type": "code",
   "execution_count": null,
   "metadata": {
    "collapsed": false
   },
   "outputs": [],
   "source": [
    "# Note that requests automatically created the right URL:\n",
    "print(rsp.url)"
   ]
  },
  {
   "cell_type": "code",
   "execution_count": null,
   "metadata": {
    "collapsed": false
   },
   "outputs": [],
   "source": [
    "# We can access the content of the response that Craigslist sent back here:\n",
    "print(rsp.text[:500])"
   ]
  },
  {
   "cell_type": "code",
   "execution_count": 5,
   "metadata": {
    "collapsed": false
   },
   "outputs": [
    {
     "name": "stdout",
     "output_type": "stream",
     "text": [
      "﻿\n",
      "<!DOCTYPE html>\n",
      "<html class=\"no-js\">\n",
      " <head>\n",
      "  <title>\n",
      "   boston apts by owner  - craigslist\n",
      "  </title>\n",
      "  <meta content=\"boston apts by owner  - craigslist\" name=\"description\">\n",
      "   <meta content=\"IE=Edge\" http-equiv=\"X-UA-Compatible\"/>\n",
      "   <link href=\"https://boston.craigslist.org/search/abo\" rel=\"canonical\">\n",
      "    <link href=\"https://boston.craigslist.org/search/abo?bedrooms=2&amp;format=rss&amp;max_price=1700\" rel=\"alternate\" title=\"RSS feed for craigslist | boston apts by owner  - craigslist \" type=\"application/rss+xml\">\n",
      "     <link href=\"https://boston.craigslist.org/search/abo?s=100&amp;bedrooms=2&amp;max_price=1700\" rel=\"next\">\n",
      "      <meta content=\"width=device-width,initial-scale=1\" name=\"viewport\">\n",
      "       <link href=\"//www.craigslist.org/styles/cl.css?v=a1714916751d26ee0ae47420332c611b\" media=\"all\" rel=\"stylesheet\" type=\"text/css\">\n",
      "        <link href=\"//www.craigslist.org/styles/search.css?v=61ca3f27c9d23e2186e4dbc5cddee5ee\" media=\"all\" rel=\"stylesheet\" type=\"text/css\">\n",
      "         <\n"
     ]
    }
   ],
   "source": [
    "from bs4 import BeautifulSoup as bs4\n",
    "\n",
    "# BS4 can quickly parse our text, make sure to tell it that you're giving html\n",
    "html = bs4(rsp.text, 'html.parser')\n",
    "\n",
    "# BS makes it easy to look through a document\n",
    "print(html.prettify()[:1000])"
   ]
  },
  {
   "cell_type": "code",
   "execution_count": 6,
   "metadata": {
    "collapsed": false
   },
   "outputs": [
    {
     "name": "stdout",
     "output_type": "stream",
     "text": [
      "100\n"
     ]
    }
   ],
   "source": [
    "# find_all will pull entries that fit your search criteria.\n",
    "# Note that we have to use brackets to define the `attrs` dictionary\n",
    "# Because \"class\" is a special word in python, so we need to give a string.\n",
    "apts = html.find_all('p', attrs={'class': 'row'})\n",
    "print(len(apts))"
   ]
  },
  {
   "cell_type": "code",
   "execution_count": 7,
   "metadata": {
    "collapsed": false
   },
   "outputs": [
    {
     "name": "stdout",
     "output_type": "stream",
     "text": [
      "<p class=\"row\" data-pid=\"5627667209\" data-repost-of=\"5566736627\">\n",
      " <a class=\"i gallery\" data-ids=\"1:00m0m_a6LyS6gTAM9,1:00202_lMAdVvWuMYO,1:00p0p_90Tr2yv4w95,1:00o0o_hPWSksbJbWt\" href=\"/gbs/abo/5627667209.html\">\n",
      " </a>\n",
      " <span class=\"txt\">\n",
      "  <span class=\"pl\">\n",
      "   <span class=\"icon icon-star\" role=\"button\">\n",
      "    <span class=\"screen-reader-text\">\n",
      "     <? __(\"favorite this post\") ?>\n",
      "    </span>\n",
      "   </span>\n",
      "   <time datetime=\"2016-06-18 08:48\" title=\"Sat 18 Jun 08:48:31 AM\">\n",
      "    Jun 18\n",
      "   </time>\n",
      "   <a class=\"hdrlnk\" data-id=\"5627667209\" href=\"/gbs/abo/5627667209.html\">\n",
      "    <span id=\"titletextonly\">\n",
      "     Take a look\n",
      "    </span>\n",
      "   </a>\n",
      "  </span>\n",
      "  <span class=\"l2\">\n",
      "   <span class=\"price\">\n",
      "    $859\n",
      "   </span>\n",
      "   <span class=\"housing\">\n",
      "    / 4br - 1250ft\n",
      "    <sup>\n",
      "     2\n",
      "    </sup>\n",
      "    -\n",
      "   </span>\n",
      "   <span class=\"pnr\">\n",
      "    <span class=\"px\">\n",
      "     <span class=\"p\">\n",
      "      pic\n",
      "     </span>\n",
      "    </span>\n",
      "   </span>\n",
      "  </span>\n",
      "  <span class=\"js-only banish-unbanish\">\n",
      "   <span class=\"banish\" title=\"hide\">\n",
      "    <span class=\"icon icon-trash\" role=\"button\">\n",
      "    </span>\n",
      "    <span class=\"screen-reader-text\">\n",
      "     hide this posting\n",
      "    </span>\n",
      "   </span>\n",
      "   <span class=\"unbanish\" title=\"restore\">\n",
      "    <span class=\"icon icon-trash red\" role=\"button\">\n",
      "    </span>\n",
      "    <span class=\"screen-reader-text\">\n",
      "     restore this posting\n",
      "    </span>\n",
      "   </span>\n",
      "  </span>\n",
      " </span>\n",
      "</p>\n",
      "\n"
     ]
    }
   ],
   "source": [
    "# We can see that there's a consistent structure to a listing.\n",
    "# There is a 'time', a 'name', a 'housing' field with size/n_brs, etc.\n",
    "this_appt = apts[15]\n",
    "print(this_appt.prettify())"
   ]
  },
  {
   "cell_type": "code",
   "execution_count": 8,
   "metadata": {
    "collapsed": false
   },
   "outputs": [
    {
     "name": "stdout",
     "output_type": "stream",
     "text": [
      "/ 4br - 1250ft2 - \n",
      "$859\n"
     ]
    }
   ],
   "source": [
    "# So now we'll pull out a couple of things we might be interested in:\n",
    "# It looks like \"housing\" contains size information. We'll pull that.\n",
    "# Note that `findAll` returns a list, since there's only one entry in\n",
    "# this HTML, we'll just pull the first item.\n",
    "size = this_appt.findAll(attrs={'class': 'housing'},)[0].text\n",
    "price = this_appt.findAll(attrs={'class': 'price'},)[0].text\n",
    "print(size)\n",
    "print(price)"
   ]
  },
  {
   "cell_type": "code",
   "execution_count": 9,
   "metadata": {
    "collapsed": false
   },
   "outputs": [],
   "source": [
    "def find_size_and_brs(size):\n",
    "    split = size.strip('/- ').split(' - ')\n",
    "    if len(split) == 2:\n",
    "        n_brs = split[0].replace('br', '')\n",
    "        this_size = split[1].replace('ft2', '')\n",
    "    elif 'br' in split[0]:\n",
    "        # It's the n_bedrooms\n",
    "        n_brs = split[0].replace('br', '')\n",
    "        this_size = np.nan\n",
    "    elif 'ft2' in split[0]:\n",
    "        # It's the size\n",
    "        this_size = split[0].replace('ft2', '')\n",
    "        n_brs = np.nan\n",
    "    return float(this_size), float(n_brs)\n",
    "this_size, n_brs = find_size_and_brs(size)"
   ]
  },
  {
   "cell_type": "code",
   "execution_count": 10,
   "metadata": {
    "collapsed": false
   },
   "outputs": [],
   "source": [
    "# Now we'll also pull a few other things:\n",
    "this_time = this_appt.find('time')['datetime']\n",
    "this_time = pd.to_datetime(this_time)\n",
    "this_price = float(this_appt.find('span', {'class': 'price'}).text.strip('$'))\n",
    "this_title = this_appt.find('a', attrs={'class': 'hdrlnk'}).text"
   ]
  },
  {
   "cell_type": "code",
   "execution_count": 11,
   "metadata": {
    "collapsed": false
   },
   "outputs": [
    {
     "name": "stdout",
     "output_type": "stream",
     "text": [
      "1250.0\n",
      "4.0\n",
      "2016-06-18 08:48:00\n",
      "859.0\n",
      "Take a look\n"
     ]
    }
   ],
   "source": [
    "# Now we've got the n_bedrooms, size, price, and time of listing\n",
    "print('\\n'.join([str(i) for i in [this_size, n_brs, this_time, this_price, this_title]]))"
   ]
  },
  {
   "cell_type": "code",
   "execution_count": 12,
   "metadata": {
    "collapsed": true
   },
   "outputs": [],
   "source": [
    "loc_prefixes = ['bos']"
   ]
  },
  {
   "cell_type": "code",
   "execution_count": 13,
   "metadata": {
    "collapsed": true
   },
   "outputs": [],
   "source": [
    "def find_prices(results):\n",
    "    prices = []\n",
    "    for rw in results:\n",
    "        price = rw.find('span', {'class': 'price'})\n",
    "        if price is not None:\n",
    "            price = float(price.text.strip('$'))\n",
    "        else:\n",
    "            price = np.nan\n",
    "        prices.append(price)\n",
    "    return prices\n",
    "\n",
    "def find_times(results):\n",
    "    times = []\n",
    "    for rw in apts:\n",
    "        if time is not None:\n",
    "            time = time['datetime']\n",
    "            time = pd.to_datetime(time)\n",
    "        else:\n",
    "            time = np.nan\n",
    "        times.append(time)\n",
    "    return times"
   ]
  },
  {
   "cell_type": "code",
   "execution_count": 14,
   "metadata": {
    "collapsed": false
   },
   "outputs": [
    {
     "name": "stdout",
     "output_type": "stream",
     "text": [
      "bos\n"
     ]
    }
   ],
   "source": [
    "# Now loop through all of this and store the results\n",
    "results = []  # We'll store the data here\n",
    "# Careful with this...too many queries == your IP gets banned temporarily\n",
    "search_indices = np.arange(0, 300, 100)\n",
    "for loc in loc_prefixes:\n",
    "    print loc\n",
    "    for i in search_indices:\n",
    "        url = 'http://boston.craigslist.org/search/abo'.format(loc)\n",
    "        resp = requests.get(url, params={'bedrooms': 2, 's': i})\n",
    "        txt = bs4(resp.text, 'html.parser')\n",
    "        apts = txt.findAll(attrs={'class': \"row\"})\n",
    "        \n",
    "        # Find the size of all entries\n",
    "        size_text = [rw.findAll(attrs={'class': 'housing'})[0].text\n",
    "                     for rw in apts]\n",
    "        sizes_brs = [find_size_and_brs(stxt) for stxt in size_text]\n",
    "        sizes, n_brs = zip(*sizes_brs)  # This unzips into 2 vectors\n",
    "     \n",
    "        # Find the title and link\n",
    "        title = [rw.find('a', attrs={'class': 'hdrlnk'}).text\n",
    "                      for rw in apts]\n",
    "        links = [rw.find('a', attrs={'class': 'hdrlnk'})['href']\n",
    "                 for rw in apts]\n",
    "        \n",
    "        # Find the time\n",
    "        time = [pd.to_datetime(rw.find('time')['datetime']) for rw in apts]\n",
    "        price = find_prices(apts)\n",
    "        \n",
    "        # We'll create a dataframe to store all the data\n",
    "        data = np.array([time, price, sizes, n_brs, title, links])\n",
    "        col_names = ['time', 'price', 'size', 'brs', 'title', 'link']\n",
    "        df = pd.DataFrame(data.T, columns=col_names)\n",
    "        df = df.set_index('time')\n",
    "        \n",
    "        # Add the location variable to all entries\n",
    "        df['loc'] = loc\n",
    "        results.append(df)\n",
    "        \n",
    "# Finally, concatenate all the results\n",
    "results = pd.concat(results, axis=0)"
   ]
  },
  {
   "cell_type": "code",
   "execution_count": 15,
   "metadata": {
    "collapsed": false
   },
   "outputs": [
    {
     "name": "stderr",
     "output_type": "stream",
     "text": [
      "c:\\python27\\lib\\site-packages\\ipykernel\\__main__.py:2: FutureWarning: convert_objects is deprecated.  Use the data-type specific converters pd.to_datetime, pd.to_timedelta and pd.to_numeric.\n",
      "  from ipykernel import kernelapp as app\n"
     ]
    }
   ],
   "source": [
    "# We'll make sure that the right columns are represented numerically:\n",
    "results[['price', 'size', 'brs']] = results[['price', 'size', 'brs']].convert_objects(convert_numeric=True)\n",
    "\n",
    "\n"
   ]
  },
  {
   "cell_type": "code",
   "execution_count": 16,
   "metadata": {
    "collapsed": false
   },
   "outputs": [
    {
     "data": {
      "text/html": [
       "<div>\n",
       "<table border=\"1\" class=\"dataframe\">\n",
       "  <thead>\n",
       "    <tr style=\"text-align: right;\">\n",
       "      <th></th>\n",
       "      <th>price</th>\n",
       "      <th>size</th>\n",
       "      <th>brs</th>\n",
       "      <th>title</th>\n",
       "      <th>link</th>\n",
       "      <th>loc</th>\n",
       "    </tr>\n",
       "    <tr>\n",
       "      <th>time</th>\n",
       "      <th></th>\n",
       "      <th></th>\n",
       "      <th></th>\n",
       "      <th></th>\n",
       "      <th></th>\n",
       "      <th></th>\n",
       "    </tr>\n",
       "  </thead>\n",
       "  <tbody>\n",
       "    <tr>\n",
       "      <th>2016-06-18 10:36:00</th>\n",
       "      <td>2400.0</td>\n",
       "      <td>NaN</td>\n",
       "      <td>2.0</td>\n",
       "      <td>BROOKLINE-Avail 8/1-Kitchen with Granite &amp; Dis...</td>\n",
       "      <td>/gbs/abo/5620559189.html</td>\n",
       "      <td>bos</td>\n",
       "    </tr>\n",
       "    <tr>\n",
       "      <th>2016-06-18 10:36:00</th>\n",
       "      <td>1600.0</td>\n",
       "      <td>1300.0</td>\n",
       "      <td>3.0</td>\n",
       "      <td>Newly Remodeled 3 Bedroom Apt Avail NOW!</td>\n",
       "      <td>/sob/abo/5641705922.html</td>\n",
       "      <td>bos</td>\n",
       "    </tr>\n",
       "    <tr>\n",
       "      <th>2016-06-18 10:35:00</th>\n",
       "      <td>2705.0</td>\n",
       "      <td>1395.0</td>\n",
       "      <td>2.0</td>\n",
       "      <td>Huge 2BD 2BA Corner Loft on Top Floor</td>\n",
       "      <td>/nwb/abo/5641705802.html</td>\n",
       "      <td>bos</td>\n",
       "    </tr>\n",
       "    <tr>\n",
       "      <th>2016-06-18 10:33:00</th>\n",
       "      <td>2500.0</td>\n",
       "      <td>1300.0</td>\n",
       "      <td>3.0</td>\n",
       "      <td>3 bed, 1 bath apt near Moody St. - FREE Laundr...</td>\n",
       "      <td>/gbs/abo/5641702555.html</td>\n",
       "      <td>bos</td>\n",
       "    </tr>\n",
       "    <tr>\n",
       "      <th>2016-06-18 10:33:00</th>\n",
       "      <td>5120.0</td>\n",
       "      <td>1500.0</td>\n",
       "      <td>3.0</td>\n",
       "      <td>At last, this is what you have been searching ...</td>\n",
       "      <td>/bmw/abo/5641701539.html</td>\n",
       "      <td>bos</td>\n",
       "    </tr>\n",
       "  </tbody>\n",
       "</table>\n",
       "</div>"
      ],
      "text/plain": [
       "                      price    size  brs  \\\n",
       "time                                       \n",
       "2016-06-18 10:36:00  2400.0     NaN  2.0   \n",
       "2016-06-18 10:36:00  1600.0  1300.0  3.0   \n",
       "2016-06-18 10:35:00  2705.0  1395.0  2.0   \n",
       "2016-06-18 10:33:00  2500.0  1300.0  3.0   \n",
       "2016-06-18 10:33:00  5120.0  1500.0  3.0   \n",
       "\n",
       "                                                                 title  \\\n",
       "time                                                                     \n",
       "2016-06-18 10:36:00  BROOKLINE-Avail 8/1-Kitchen with Granite & Dis...   \n",
       "2016-06-18 10:36:00           Newly Remodeled 3 Bedroom Apt Avail NOW!   \n",
       "2016-06-18 10:35:00              Huge 2BD 2BA Corner Loft on Top Floor   \n",
       "2016-06-18 10:33:00  3 bed, 1 bath apt near Moody St. - FREE Laundr...   \n",
       "2016-06-18 10:33:00  At last, this is what you have been searching ...   \n",
       "\n",
       "                                         link  loc  \n",
       "time                                                \n",
       "2016-06-18 10:36:00  /gbs/abo/5620559189.html  bos  \n",
       "2016-06-18 10:36:00  /sob/abo/5641705922.html  bos  \n",
       "2016-06-18 10:35:00  /nwb/abo/5641705802.html  bos  \n",
       "2016-06-18 10:33:00  /gbs/abo/5641702555.html  bos  \n",
       "2016-06-18 10:33:00  /bmw/abo/5641701539.html  bos  "
      ]
     },
     "execution_count": 16,
     "metadata": {},
     "output_type": "execute_result"
    }
   ],
   "source": [
    "# And there you have it:\n",
    "results.head()"
   ]
  },
  {
   "cell_type": "code",
   "execution_count": 17,
   "metadata": {
    "collapsed": false
   },
   "outputs": [
    {
     "data": {
      "text/plain": [
       "<matplotlib.text.Text at 0xaa94630>"
      ]
     },
     "execution_count": 17,
     "metadata": {},
     "output_type": "execute_result"
    },
    {
     "data": {
      "image/png": "[encoded data removed]",
      "text/plain": [
       "<matplotlib.figure.Figure at 0x929fc50>"
      ]
     },
     "metadata": {},
     "output_type": "display_data"
    }
   ],
   "source": [
    "ax = results.hist('price', bins=np.arange(0, 10000, 100))[0, 0]\n",
    "ax.set_title('New listings', fontsize=20)\n",
    "ax.set_xlabel('Price', fontsize=18)\n",
    "ax.set_ylabel('Count', fontsize=18)"
   ]
  },
  {
   "cell_type": "code",
   "execution_count": 18,
   "metadata": {
    "collapsed": false
   },
   "outputs": [],
   "source": [
    "# Finally, we can save this data to a CSV to play around with it later.\n",
    "# We'll have to remove some annoying characters first:\n",
    "import string\n",
    "use_chars = string.ascii_letters +\\\n",
    "    ''.join([str(i) for i in range(10)]) +\\\n",
    "    ' /\\.'\n",
    "results['title'] = results['title'].apply(\n",
    "    lambda a: ''.join([i for i in a if i in use_chars]))\n",
    "\n",
    "results.to_csv('C:/Users/Alex/Desktop/Apartments_data/craigslist_results.csv')"
   ]
  },
  {
   "cell_type": "code",
   "execution_count": null,
   "metadata": {
    "collapsed": false,
    "scrolled": true
   },
   "outputs": [],
   "source": []
  },
  {
   "cell_type": "code",
   "execution_count": null,
   "metadata": {
    "collapsed": false
   },
   "outputs": [
    {
     "name": "stdout",
     "output_type": "stream",
     "text": [
      "Found new listing\n",
      "Found new listing\n",
      "Found new listing\n",
      "Found new listing\n",
      "Found new listing\n",
      "Found new listing\n",
      "Found new listing\n",
      "Found new listing\n",
      "Found new listing\n",
      "Found new listing\n",
      "Found new listing\n",
      "Found new listing\n",
      "Found new listing\n",
      "Found new listing\n",
      "Found new listing\n",
      "Found new listing\n",
      "Found new listing\n",
      "Found new listing\n",
      "Found new listing\n",
      "Found new listing\n",
      "Found new listing\n",
      "Found new listing\n",
      "Found new listing\n",
      "Found new listing\n",
      "Found new listing\n",
      "Found new listing\n",
      "Found new listing\n",
      "Found new listing\n",
      "Found new listing\n",
      "Found new listing\n",
      "Found new listing\n",
      "Found new listing\n",
      "Found new listing\n",
      "Found new listing\n",
      "Found new listing\n",
      "Found new listing\n",
      "Found new listing\n",
      "Found new listing\n",
      "Found new listing\n",
      "Found new listing\n",
      "Found new listing\n",
      "Found new listing\n",
      "Found new listing\n",
      "Found new listing\n",
      "Found new listing\n",
      "Found new listing\n",
      "Found new listing\n",
      "Found new listing\n",
      "Found new listing\n",
      "Found new listing\n",
      "Found new listing\n",
      "Found new listing\n",
      "Found new listing\n",
      "Found new listing\n",
      "Found new listing\n",
      "Found new listing\n",
      "Found new listing\n",
      "Found new listing\n",
      "Found new listing\n",
      "Found new listing\n",
      "Found new listing\n",
      "Found new listing\n",
      "Found new listing\n",
      "Found new listing\n",
      "Found new listing\n",
      "Found new listing\n",
      "Found new listing\n",
      "Found new listing\n",
      "Found new listing\n",
      "Found new listing\n",
      "Found new listing\n",
      "Found new listing\n",
      "Found new listing\n",
      "Found new listing\n",
      "Found new listing\n",
      "Found new listing\n",
      "Found new listing\n",
      "Found new listing\n",
      "Found new listing\n",
      "Found new listing\n",
      "Found new listing\n",
      "Found new listing\n",
      "Found new listing\n",
      "Found new listing\n",
      "Found new listing\n",
      "Found new listing\n",
      "Found new listing\n",
      "Found new listing\n",
      "Found new listing\n",
      "Found new listing\n",
      "Found new listing\n",
      "Found new listing\n",
      "Found new listing\n",
      "Found new listing\n",
      "Found new listing\n",
      "Found new listing\n",
      "Found new listing\n",
      "Found new listing\n",
      "Found new listing\n",
      "Found new listing\n",
      "Sending mail!\n",
      "Found new listing\n",
      "Found new listing\n",
      "Sending mail!\n",
      "Found new listing\n",
      "Found new listing\n",
      "Found new listing\n",
      "Found new listing\n",
      "Sending mail!\n",
      "Found new listing\n",
      "Found new listing\n",
      "Found new listing\n",
      "Found new listing\n",
      "Sending mail!\n",
      "Found new listing\n",
      "Found new listing\n",
      "Found new listing\n",
      "Sending mail!\n",
      "Found new listing\n",
      "Found new listing\n",
      "Found new listing\n",
      "Found new listing\n",
      "Found new listing\n",
      "Sending mail!\n",
      "Found new listing\n",
      "Found new listing\n",
      "Found new listing\n",
      "Sending mail!\n",
      "Found new listing\n",
      "Found new listing\n",
      "Found new listing\n",
      "Sending mail!\n",
      "Found new listing\n",
      "Found new listing\n",
      "Sending mail!\n",
      "Found new listing\n",
      "Found new listing\n",
      "Found new listing\n",
      "Sending mail!\n"
     ]
    }
   ],
   "source": [
    "import email\n",
    "import gmail\n",
    "import time\n",
    "\n",
    "gm = gmail.GMail('355628@csinow.edu', 'pikabu19912846')\n",
    "gm.connect()\n",
    "\n",
    "# Define our URL and a query we want to post\n",
    "base_url = 'http://boston.craigslist.org/'\n",
    "url = base_url + 'search/abo?max_price=1700&bedrooms=2'\n",
    "\n",
    "# This will remove weird characters that people put in titles like ****!***!!!\n",
    "use_chars = string.ascii_letters + ''.join([str(i) for i in range(10)]) + ' '\n",
    "\n",
    "\n",
    "link_list = []  # We'll store the data here\n",
    "link_list_send = []  # This is a list of links to be sent\n",
    "send_list = []  # This is what will actually be sent in the email\n",
    "\n",
    "# Careful with this...too many queries == your IP gets banned temporarily\n",
    "while True:\n",
    "    resp = requests.get(url)\n",
    "    txt = bs4(resp.text, 'html.parser')\n",
    "    apts = txt.findAll(attrs={'class': \"row\"})\n",
    "    \n",
    "    # We're just going to pull the title and link\n",
    "    for apt in apts:\n",
    "        title = apt.find_all('a', attrs={'class': 'hdrlnk'})[0]\n",
    "        name = ''.join([i for i in title.text if i in use_chars])\n",
    "        link = title.attrs['href']\n",
    "        if link not in link_list and link not in link_list_send:\n",
    "            print('Found new listing')\n",
    "            link_list_send.append(link)\n",
    "            send_list.append(name + '  -  ' + base_url+link)\n",
    "            \n",
    "    # Flush the cache if we've found new entries\n",
    "    if len(link_list_send) > 0:\n",
    "        print('Sending mail!')\n",
    "        msg = '\\n'.join(send_list)\n",
    "        m = email.message.Message()\n",
    "        m.set_payload(msg)\n",
    "        gm.send(m, ['carolyu0817@gmail.com', 'mrmajestickk@gmail.com'])\n",
    "        link_list += link_list_send\n",
    "        link_list_send = []\n",
    "        send_list = []\n",
    "    \n",
    "    # Sleep a bit so CL doesn't ban us\n",
    "    sleep_amt = np.random.randint(60, 120)\n",
    "    time.sleep(sleep_amt)"
   ]
  },
  {
   "cell_type": "markdown",
   "metadata": {},
   "source": [
    "gmai"
   ]
  },
  {
   "cell_type": "code",
   "execution_count": null,
   "metadata": {
    "collapsed": true
   },
   "outputs": [],
   "source": []
  }
 ],
 "metadata": {
  "kernelspec": {
   "display_name": "Python 2",
   "language": "python",
   "name": "python2"
  },
  "language_info": {
   "codemirror_mode": {
    "name": "ipython",
    "version": 2
   },
   "file_extension": ".py",
   "mimetype": "text/x-python",
   "name": "python",
   "nbconvert_exporter": "python",
   "pygments_lexer": "ipython2",
   "version": "2.7"
  }
 },
 "nbformat": 4,
 "nbformat_minor": 0
}
